{
 "cells": [
  {
   "cell_type": "code",
   "execution_count": 1,
   "source": [
    "name = input('What is your name?')\r\n",
    "print('Hello ' + str(name))"
   ],
   "outputs": [
    {
     "output_type": "stream",
     "name": "stdout",
     "text": [
      "Hello Hazel\n"
     ]
    }
   ],
   "metadata": {}
  },
  {
   "cell_type": "code",
   "execution_count": 2,
   "source": [
    "length = float(input('Length?'))\r\n",
    "width = float(input('Width?'))\r\n",
    "area = length * width\r\n",
    "print(area)"
   ],
   "outputs": [
    {
     "output_type": "stream",
     "name": "stdout",
     "text": [
      "40.0\n"
     ]
    }
   ],
   "metadata": {}
  },
  {
   "cell_type": "code",
   "execution_count": 3,
   "source": [
    "length = float(input('Length as feet?'))\r\n",
    "width = float(input('Width as feet?'))\r\n",
    "area = length * width\r\n",
    "area_acre = 43560 * area\r\n",
    "print(area_acre)"
   ],
   "outputs": [
    {
     "output_type": "stream",
     "name": "stdout",
     "text": [
      "1742400.0\n"
     ]
    }
   ],
   "metadata": {}
  },
  {
   "cell_type": "code",
   "execution_count": 4,
   "source": [
    "small = float(input('How many bottles are there less than 1lt'))\r\n",
    "big = float(input('How many bottles are there more than 1 lt?'))\r\n",
    "refund = (small * 0.10) + (big * 0.25)\r\n",
    "print(\"Total refund is $\" + str(round(refund,2)))"
   ],
   "outputs": [
    {
     "output_type": "stream",
     "name": "stdout",
     "text": [
      "Total refund is $2.75\n"
     ]
    }
   ],
   "metadata": {}
  },
  {
   "cell_type": "code",
   "execution_count": null,
   "source": [
    "meal = float(input('How much is the meal?'))\r\n",
    "tax = 0.08 * meal\r\n",
    "tip = 0.18 * meal\r\n",
    "total = meal + tax + tip\r\n",
    "print('Total pay is $' + str(round(total,2)))"
   ],
   "outputs": [
    {
     "output_type": "stream",
     "name": "stdout",
     "text": [
      "Total pay is $50.4\n"
     ]
    }
   ],
   "metadata": {}
  },
  {
   "cell_type": "code",
   "execution_count": null,
   "source": [
    "integer = float (input('give me an integer:'))\r\n",
    "sum = (integer * (integer + 1)) / 2\r\n",
    "print('The sum of 1 through ' + str(integer) + ' equals ' + str(sum))"
   ],
   "outputs": [
    {
     "output_type": "stream",
     "name": "stdout",
     "text": [
      "The sum of 1 through 5.0 equals 15.0\n"
     ]
    }
   ],
   "metadata": {}
  },
  {
   "cell_type": "code",
   "execution_count": null,
   "source": [
    "widgets = input('how many widgets?')\r\n",
    "gizmos = input('how many gizmos?')\r\n",
    "weight = (int(widgets)*75) + (int(gizmos)*112)\r\n",
    "print(weight)"
   ],
   "outputs": [
    {
     "output_type": "stream",
     "name": "stdout",
     "text": [
      "1196\n"
     ]
    }
   ],
   "metadata": {}
  },
  {
   "cell_type": "code",
   "execution_count": 10,
   "source": [
    "money = 100\r\n",
    "\r\n",
    "for i in range(3):\r\n",
    "    interest= 0.04 * money \r\n",
    "    money = money + interest\r\n",
    "    print(round(money))"
   ],
   "outputs": [
    {
     "output_type": "stream",
     "name": "stdout",
     "text": [
      "104\n",
      "108\n",
      "112\n"
     ]
    }
   ],
   "metadata": {}
  },
  {
   "cell_type": "code",
   "execution_count": 14,
   "source": [
    "a=int(input(\"give a number:\"))\r\n",
    "b=int(input('give another number:'))\r\n",
    "total = a + b\r\n",
    "diff = a - b\r\n",
    "product = a * b\r\n",
    "quotient = a / b\r\n",
    "print(total, diff,product,quotient)"
   ],
   "outputs": [
    {
     "output_type": "stream",
     "name": "stdout",
     "text": [
      "15 5 50 2.0\n"
     ]
    }
   ],
   "metadata": {}
  },
  {
   "cell_type": "code",
   "execution_count": 58,
   "source": [
    "exchange = 263\r\n",
    "print(exchange // 200, 'toonies')\r\n",
    "exchange=float(exchange % 200)\r\n",
    "\r\n",
    "print(exchange // 100, 'loonies')\r\n",
    "exchange=float(exchange % 100)\r\n",
    "\r\n",
    "print(exchange // 25, 'quarters')\r\n",
    "exchange=float(exchange % 25)\r\n",
    "\r\n",
    "print(exchange // 10, 'dimes')\r\n",
    "exchange= float(exchange % 10)\r\n",
    "\r\n",
    "print(exchange // 5,  'nickels')\r\n",
    "exchange= int(exchange % 5)\r\n",
    "\r\n",
    "print(exchange // 1,  'pennies')\r\n",
    "exchange= int(exchange % 1)\r\n",
    "        \r\n"
   ],
   "outputs": [
    {
     "output_type": "stream",
     "name": "stdout",
     "text": [
      "1 toonies\n",
      "0.0 loonies\n",
      "2.0 quarters\n",
      "1.0 dimes\n",
      "0.0 nickels\n",
      "3 pennies\n"
     ]
    }
   ],
   "metadata": {}
  }
 ],
 "metadata": {
  "orig_nbformat": 4,
  "language_info": {
   "name": "python",
   "version": "3.8.3",
   "mimetype": "text/x-python",
   "codemirror_mode": {
    "name": "ipython",
    "version": 3
   },
   "pygments_lexer": "ipython3",
   "nbconvert_exporter": "python",
   "file_extension": ".py"
  },
  "kernelspec": {
   "name": "python3",
   "display_name": "Python 3.8.3 64-bit ('base': conda)"
  },
  "interpreter": {
   "hash": "46182d5f787c7496ac3d2ccd0c5d8bf41bffd3ac5e5e93146af501a7f382c533"
  }
 },
 "nbformat": 4,
 "nbformat_minor": 2
}